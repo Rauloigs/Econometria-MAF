{
  "cells": [
    {
      "cell_type": "markdown",
      "metadata": {
        "id": "view-in-github",
        "colab_type": "text"
      },
      "source": [
        "<a href=\"https://colab.research.google.com/github/Rauloigs/Econometria-MAF/blob/main/tarea_cbeth.ipynb\" target=\"_parent\"><img src=\"https://colab.research.google.com/assets/colab-badge.svg\" alt=\"Open In Colab\"/></a>"
      ]
    },
    {
      "cell_type": "code",
      "execution_count": null,
      "id": "3f801b3c",
      "metadata": {
        "id": "3f801b3c"
      },
      "outputs": [],
      "source": [
        "import pandas as pd\n",
        "import numpy as np\n",
        "import matplotlib.pyplot as plt\n",
        "from statsmodels.tsa.stattools import adfuller\n",
        "from statsmodels.tsa.stattools import kpss\n",
        "from statsmodels.tsa.api import VAR"
      ]
    },
    {
      "cell_type": "code",
      "execution_count": null,
      "id": "e8a91b05",
      "metadata": {
        "id": "e8a91b05"
      },
      "outputs": [],
      "source": [
        "%load_ext autoreload\n",
        "%autoreload 2\n",
        "%matplotlib inline\n",
        "\n",
        "import eth as eth"
      ]
    },
    {
      "cell_type": "markdown",
      "id": "4adc7890",
      "metadata": {
        "id": "4adc7890"
      },
      "source": [
        "## 1. Data"
      ]
    },
    {
      "cell_type": "code",
      "execution_count": null,
      "id": "e3b21b28",
      "metadata": {
        "id": "e3b21b28"
      },
      "outputs": [],
      "source": [
        "df = pd.read_csv(\"CBETHUSD.csv\")"
      ]
    },
    {
      "cell_type": "markdown",
      "id": "744e70fd",
      "metadata": {
        "id": "744e70fd"
      },
      "source": [
        "Hay 3 NaNs, considero que son pocos. Intentamos revisar en Yahoo Finance encontrar estos 3 valores, pero para este ticker no existen datos antes del 2022, por lo cuál esta data posiblemente no es real."
      ]
    },
    {
      "cell_type": "markdown",
      "id": "cf0ac086",
      "metadata": {
        "id": "cf0ac086"
      },
      "source": [
        "## 2. Preparación de los Datos:\n",
        "\n",
        "- Importa los datos de la criptomoneda a tu herramienta de análisis preferida (R, Python, Excel, etc.).\n",
        "- Corre un Dickey-Fuller y otra prueba de estacionalidad de su interés. ¿La serie es estacionaria? ¿En base a qué información notas que la data es (o no es) estacionaria?"
      ]
    },
    {
      "cell_type": "code",
      "execution_count": null,
      "id": "5a4365d1",
      "metadata": {
        "id": "5a4365d1",
        "outputId": "1af24b72-2ad0-4687-df43-83c9bde1b1a2"
      },
      "outputs": [
        {
          "data": {
            "text/html": [
              "<div>\n",
              "<style scoped>\n",
              "    .dataframe tbody tr th:only-of-type {\n",
              "        vertical-align: middle;\n",
              "    }\n",
              "\n",
              "    .dataframe tbody tr th {\n",
              "        vertical-align: top;\n",
              "    }\n",
              "\n",
              "    .dataframe thead th {\n",
              "        text-align: right;\n",
              "    }\n",
              "</style>\n",
              "<table border=\"1\" class=\"dataframe\">\n",
              "  <thead>\n",
              "    <tr style=\"text-align: right;\">\n",
              "      <th></th>\n",
              "      <th>CBETHUSD</th>\n",
              "    </tr>\n",
              "  </thead>\n",
              "  <tbody>\n",
              "    <tr>\n",
              "      <th>2016-05-18</th>\n",
              "      <td>13.18</td>\n",
              "    </tr>\n",
              "    <tr>\n",
              "      <th>2016-05-19</th>\n",
              "      <td>14.90</td>\n",
              "    </tr>\n",
              "    <tr>\n",
              "      <th>2016-05-20</th>\n",
              "      <td>14.17</td>\n",
              "    </tr>\n",
              "  </tbody>\n",
              "</table>\n",
              "</div>"
            ],
            "text/plain": [
              "            CBETHUSD\n",
              "2016-05-18     13.18\n",
              "2016-05-19     14.90\n",
              "2016-05-20     14.17"
            ]
          },
          "execution_count": 4,
          "metadata": {},
          "output_type": "execute_result"
        }
      ],
      "source": [
        "cbeth = eth.get_cbethusd(df)\n",
        "cbeth.head(3)"
      ]
    },
    {
      "cell_type": "markdown",
      "id": "65b1a35b",
      "metadata": {
        "id": "65b1a35b"
      },
      "source": [
        "**Dickey-Fuller**\n",
        "\n",
        "No es estacionaria ya que p > 0.05\n",
        "\n",
        "La serie de precios de CBETHUSD no es estacionaria, sus propiedades estadísticas, como la media y la varianza, cambian con el tiempo.\n",
        "\n",
        "Puede deberse a la presencia de tendencias, estacionalidad o ambos."
      ]
    },
    {
      "cell_type": "code",
      "execution_count": null,
      "id": "c094d98f",
      "metadata": {
        "id": "c094d98f",
        "outputId": "2d9d8818-f7d8-4e81-8058-2d7691b0c186"
      },
      "outputs": [
        {
          "name": "stdout",
          "output_type": "stream",
          "text": [
            "Estadístico ADF: -1.586491\n",
            "Valor p: 0.490376\n",
            "Valores críticos:\n",
            "\t1%: -3.432\n",
            "\t5%: -2.862\n",
            "\t10%: -2.567\n",
            "La serie NO es estacionaria\n"
          ]
        }
      ],
      "source": [
        "eth.get_dickey_fuller(cbeth)"
      ]
    },
    {
      "cell_type": "markdown",
      "id": "949f63f0",
      "metadata": {
        "id": "949f63f0"
      },
      "source": [
        "Otra Prueba\n",
        "\n",
        "**Autocorrelación (ACF) y Autocorrelación Parcial (PACF)**\n",
        "\n",
        "La ACF (Autocorrelation) no decae rápidamente hacia cero. Permanecen significativamente fuera del área sombreada (que indica el intervalo de confianza) incluso para rezagos grandes. Los valores de la serie están correlacionados con valores pasados lejanos, lo cual es típico de series no estacionarias.\n",
        "\n",
        "En la PACF no hay un patrón claro de decaimiento."
      ]
    },
    {
      "cell_type": "code",
      "execution_count": null,
      "id": "f9c6ba4b",
      "metadata": {
        "id": "f9c6ba4b",
        "outputId": "e58af407-d9b6-47ae-bb94-e152daa2521f"
      },
      "outputs": [
        {
          "data": {
            "image/png": "[encoded data removed]",
            "text/plain": [
              "<Figure size 864x288 with 2 Axes>"
            ]
          },
          "metadata": {
            "needs_background": "light"
          },
          "output_type": "display_data"
        }
      ],
      "source": [
        "eth.get_grafica_cbeth(cbeth)"
      ]
    },
    {
      "cell_type": "markdown",
      "id": "3e17ff4c",
      "metadata": {
        "id": "3e17ff4c"
      },
      "source": [
        "## 3. Log-Diferenciación de los Datos:\n",
        "\n",
        "Vamos hacer varios cambios a la data. Usar AR1 / MR1 / ARMA\n",
        "- Primero, vamos a definir una nueva variable llamada pb=el cambio porcentual de un día al otro del precio de Bitcoin:\n",
        "- Segundo, vamos a definir otra variable llamada pl=la diferencia de los logaritmos\n",
        "- ¿Es  pb estacionaria? ¿Qué tal pl? **Ahora sí, ambas son estacionarias**\n",
        "- Ahora queremos ver la correlación entra ambas series. Calcula la correlación entre y ¿cuánto te da? Proximo, dibuja un \"scatter plot\" de las dos variables, describe lo que observas. Nota que una correlación perfecta pondría a todos los valores en la línea. Precisamente, ¿qué valores se salen de esa línea? **Los valores que se salen de la línea, son los valores de de pb, los de pl, como se observa en los histogramas creados quedaron más cerrados.**"
      ]
    },
    {
      "cell_type": "code",
      "execution_count": null,
      "id": "43c15f6b",
      "metadata": {
        "id": "43c15f6b",
        "outputId": "1b03e6b4-6894-47f1-fa98-0d6badb0933d"
      },
      "outputs": [
        {
          "data": {
            "text/html": [
              "<div>\n",
              "<style scoped>\n",
              "    .dataframe tbody tr th:only-of-type {\n",
              "        vertical-align: middle;\n",
              "    }\n",
              "\n",
              "    .dataframe tbody tr th {\n",
              "        vertical-align: top;\n",
              "    }\n",
              "\n",
              "    .dataframe thead th {\n",
              "        text-align: right;\n",
              "    }\n",
              "</style>\n",
              "<table border=\"1\" class=\"dataframe\">\n",
              "  <thead>\n",
              "    <tr style=\"text-align: right;\">\n",
              "      <th></th>\n",
              "      <th>CBETHUSD</th>\n",
              "      <th>pb</th>\n",
              "      <th>pl</th>\n",
              "    </tr>\n",
              "  </thead>\n",
              "  <tbody>\n",
              "    <tr>\n",
              "      <th>2016-05-19</th>\n",
              "      <td>14.90</td>\n",
              "      <td>13.050076</td>\n",
              "      <td>0.122661</td>\n",
              "    </tr>\n",
              "    <tr>\n",
              "      <th>2016-05-20</th>\n",
              "      <td>14.17</td>\n",
              "      <td>-4.899329</td>\n",
              "      <td>-0.050234</td>\n",
              "    </tr>\n",
              "    <tr>\n",
              "      <th>2016-05-24</th>\n",
              "      <td>12.77</td>\n",
              "      <td>-6.171932</td>\n",
              "      <td>-0.063706</td>\n",
              "    </tr>\n",
              "  </tbody>\n",
              "</table>\n",
              "</div>"
            ],
            "text/plain": [
              "            CBETHUSD         pb        pl\n",
              "2016-05-19     14.90  13.050076  0.122661\n",
              "2016-05-20     14.17  -4.899329 -0.050234\n",
              "2016-05-24     12.77  -6.171932 -0.063706"
            ]
          },
          "execution_count": 7,
          "metadata": {},
          "output_type": "execute_result"
        }
      ],
      "source": [
        "df = pd.read_csv(\"CBETHUSD.csv\")\n",
        "cbeth_nuevo = eth.get_datos_columnas_nuevas(df)\n",
        "cbeth_nuevo.head(3)"
      ]
    },
    {
      "cell_type": "markdown",
      "id": "0cedb0c8",
      "metadata": {
        "id": "0cedb0c8"
      },
      "source": [
        "**Resultados para \"pl\"**"
      ]
    },
    {
      "cell_type": "code",
      "execution_count": null,
      "id": "7dc5c328",
      "metadata": {
        "id": "7dc5c328",
        "outputId": "dba3b1ae-b060-4966-ab3f-efefc0073fa5"
      },
      "outputs": [
        {
          "data": {
            "text/plain": [
              "{'adf': -16.70358198918537,\n",
              " 'pvalue': 1.4543333677246857e-29,\n",
              " 'criticos': {'1%': -3.432417154100739,\n",
              "  '5%': -2.8624533421758582,\n",
              "  '10%': -2.5672561930636193},\n",
              " 'estacionaria': True}"
            ]
          },
          "execution_count": 8,
          "metadata": {},
          "output_type": "execute_result"
        }
      ],
      "source": [
        "eth.prueba_dickey_fuller(cbeth_nuevo['pl'])"
      ]
    },
    {
      "cell_type": "markdown",
      "id": "447a1b1d",
      "metadata": {
        "id": "447a1b1d"
      },
      "source": [
        "**Resultados para \"pb\"**"
      ]
    },
    {
      "cell_type": "code",
      "execution_count": null,
      "id": "3e570214",
      "metadata": {
        "id": "3e570214",
        "outputId": "6e7501b3-0791-4dee-e3ac-b77a0af3b1be"
      },
      "outputs": [
        {
          "data": {
            "text/plain": [
              "{'adf': -20.822676282699014,\n",
              " 'pvalue': 0.0,\n",
              " 'criticos': {'1%': -3.432414543587629,\n",
              "  '5%': -2.8624521891581085,\n",
              "  '10%': -2.5672555792176257},\n",
              " 'estacionaria': True}"
            ]
          },
          "execution_count": 9,
          "metadata": {},
          "output_type": "execute_result"
        }
      ],
      "source": [
        "eth.prueba_dickey_fuller(cbeth_nuevo['pb'])"
      ]
    },
    {
      "cell_type": "code",
      "execution_count": null,
      "id": "ba8fbcfb",
      "metadata": {
        "id": "ba8fbcfb",
        "outputId": "8b824a5c-b2ae-4a85-c911-8545a38d4832"
      },
      "outputs": [
        {
          "data": {
            "image/png": "[encoded data removed]",
            "text/plain": [
              "<Figure size 576x432 with 1 Axes>"
            ]
          },
          "metadata": {
            "needs_background": "light"
          },
          "output_type": "display_data"
        },
        {
          "name": "stdout",
          "output_type": "stream",
          "text": [
            "The correlation between 'pl' and 'pb' is: 0.9969\n"
          ]
        },
        {
          "data": {
            "image/png": "[encoded data removed]",
            "text/plain": [
              "<Figure size 720x360 with 2 Axes>"
            ]
          },
          "metadata": {
            "needs_background": "light"
          },
          "output_type": "display_data"
        }
      ],
      "source": [
        "# Scatter plot entre las dos\n",
        "plt.figure(figsize=(8, 6))\n",
        "plt.scatter(cbeth_nuevo['pb'], cbeth_nuevo['pl'], alpha=0.5)  # alpha controla la transparencia de los puntos\n",
        "plt.xlabel(\"Cambio porcentual (pb)\")\n",
        "plt.ylabel(\"Diferencia logarítmica (pl)\")\n",
        "plt.title(\"Scatter plot entre pb y pl\")\n",
        "plt.grid(True)\n",
        "plt.show()\n",
        "\n",
        "# Calculate the correlation between 'pl' and 'pb'\n",
        "correlation = cbeth_nuevo['pl'].corr(cbeth_nuevo['pb'])\n",
        "print(f\"The correlation between 'pl' and 'pb' is: {correlation:.4f}\")\n",
        "\n",
        "# Plot the histograms\n",
        "plt.figure(figsize=(10, 5))\n",
        "\n",
        "# Histogram for 'pl'\n",
        "plt.subplot(1, 2, 1)\n",
        "cbeth_nuevo['pl'].plot(kind='hist')\n",
        "plt.xlabel('Date')\n",
        "plt.ylabel('pl')\n",
        "plt.title('Histogram of pl Values')\n",
        "\n",
        "# Histogram for 'pb'\n",
        "plt.subplot(1, 2, 2)\n",
        "cbeth_nuevo['pb'].plot(kind='hist')\n",
        "plt.xlabel('Date')\n",
        "plt.ylabel('pb')\n",
        "plt.title('Histogram of pb Values')\n",
        "\n",
        "plt.tight_layout()\n",
        "plt.show()"
      ]
    },
    {
      "cell_type": "markdown",
      "id": "e51d88b0",
      "metadata": {
        "id": "e51d88b0"
      },
      "source": [
        "### 4. Modelización con SARMA:\n",
        "\n",
        "- Calcula un moving average de order 1 para ambas variables: y Ilustra ambos grupos de parámetros. ¿Son similares las relaciones estimadas? **Son muy similares, solamente que cubren diferente rangos como los vimos en los histogramas (arriba)**"
      ]
    },
    {
      "cell_type": "code",
      "execution_count": null,
      "id": "e82e16f2",
      "metadata": {
        "id": "e82e16f2",
        "outputId": "9f1d6276-4913-4e9b-9392-9613fd7f9c9e"
      },
      "outputs": [
        {
          "name": "stderr",
          "output_type": "stream",
          "text": [
            "/var/folders/zt/6jpq2rmj2jv94tj8xth5tqzr0000gn/T/ipykernel_6975/90876869.py:2: SettingWithCopyWarning: \n",
            "A value is trying to be set on a copy of a slice from a DataFrame.\n",
            "Try using .loc[row_indexer,col_indexer] = value instead\n",
            "\n",
            "See the caveats in the documentation: https://pandas.pydata.org/pandas-docs/stable/user_guide/indexing.html#returning-a-view-versus-a-copy\n",
            "  cbeth_nuevo['pl_ma1'] = cbeth_nuevo['pl'].rolling(window=1).mean()\n",
            "/var/folders/zt/6jpq2rmj2jv94tj8xth5tqzr0000gn/T/ipykernel_6975/90876869.py:3: SettingWithCopyWarning: \n",
            "A value is trying to be set on a copy of a slice from a DataFrame.\n",
            "Try using .loc[row_indexer,col_indexer] = value instead\n",
            "\n",
            "See the caveats in the documentation: https://pandas.pydata.org/pandas-docs/stable/user_guide/indexing.html#returning-a-view-versus-a-copy\n",
            "  cbeth_nuevo['pb_ma1'] = cbeth_nuevo['pb'].rolling(window=1).mean()\n"
          ]
        },
        {
          "data": {
            "text/html": [
              "<div>\n",
              "<style scoped>\n",
              "    .dataframe tbody tr th:only-of-type {\n",
              "        vertical-align: middle;\n",
              "    }\n",
              "\n",
              "    .dataframe tbody tr th {\n",
              "        vertical-align: top;\n",
              "    }\n",
              "\n",
              "    .dataframe thead th {\n",
              "        text-align: right;\n",
              "    }\n",
              "</style>\n",
              "<table border=\"1\" class=\"dataframe\">\n",
              "  <thead>\n",
              "    <tr style=\"text-align: right;\">\n",
              "      <th></th>\n",
              "      <th>CBETHUSD</th>\n",
              "      <th>pb</th>\n",
              "      <th>pl</th>\n",
              "      <th>pl_ma1</th>\n",
              "      <th>pb_ma1</th>\n",
              "    </tr>\n",
              "  </thead>\n",
              "  <tbody>\n",
              "    <tr>\n",
              "      <th>2016-05-19</th>\n",
              "      <td>14.90</td>\n",
              "      <td>13.050076</td>\n",
              "      <td>0.122661</td>\n",
              "      <td>0.122661</td>\n",
              "      <td>13.050076</td>\n",
              "    </tr>\n",
              "    <tr>\n",
              "      <th>2016-05-20</th>\n",
              "      <td>14.17</td>\n",
              "      <td>-4.899329</td>\n",
              "      <td>-0.050234</td>\n",
              "      <td>-0.050234</td>\n",
              "      <td>-4.899329</td>\n",
              "    </tr>\n",
              "    <tr>\n",
              "      <th>2016-05-24</th>\n",
              "      <td>12.77</td>\n",
              "      <td>-6.171932</td>\n",
              "      <td>-0.063706</td>\n",
              "      <td>-0.063706</td>\n",
              "      <td>-6.171932</td>\n",
              "    </tr>\n",
              "  </tbody>\n",
              "</table>\n",
              "</div>"
            ],
            "text/plain": [
              "            CBETHUSD         pb        pl    pl_ma1     pb_ma1\n",
              "2016-05-19     14.90  13.050076  0.122661  0.122661  13.050076\n",
              "2016-05-20     14.17  -4.899329 -0.050234 -0.050234  -4.899329\n",
              "2016-05-24     12.77  -6.171932 -0.063706 -0.063706  -6.171932"
            ]
          },
          "execution_count": 20,
          "metadata": {},
          "output_type": "execute_result"
        }
      ],
      "source": [
        "# Calculate the moving average of order 1 for 'pl' and 'pb'\n",
        "cbeth_nuevo['pl_ma1'] = cbeth_nuevo['pl'].rolling(window=1).mean()\n",
        "cbeth_nuevo['pb_ma1'] = cbeth_nuevo['pb'].rolling(window=1).mean()\n",
        "\n",
        "# Print the first 5 rows of the DataFrame with moving average columns\n",
        "#print(cbeth_nuevo[['pl_ma1', 'pb_ma1']].head().to_markdown(index=True, numalign=\"left\", stralign=\"left\"))\n",
        "cbeth_nuevo.head(3)"
      ]
    },
    {
      "cell_type": "code",
      "execution_count": null,
      "id": "d9bd856d",
      "metadata": {
        "id": "d9bd856d",
        "outputId": "88e8c8ce-746d-4a4a-d03c-9e028d4f9a42"
      },
      "outputs": [
        {
          "data": {
            "image/png": "[encoded data removed]",
            "text/plain": [
              "<Figure size 1152x360 with 2 Axes>"
            ]
          },
          "metadata": {
            "needs_background": "light"
          },
          "output_type": "display_data"
        }
      ],
      "source": [
        "# Plot the moving averages\n",
        "plt.figure(figsize=(16, 5))\n",
        "\n",
        "# Plot 'pl_ma1'\n",
        "plt.subplot(1, 2, 1)\n",
        "cbeth_nuevo['pl_ma1'].plot(label='pl_ma1', color='blue')\n",
        "plt.xlabel('Date')\n",
        "plt.ylabel('Value')\n",
        "plt.title('Moving Average (Order 1) - pl')\n",
        "plt.legend()\n",
        "\n",
        "# Plot 'pb_ma1'\n",
        "plt.subplot(1, 2, 2)\n",
        "cbeth_nuevo['pb_ma1'].plot(label='pb_ma1', color='red')\n",
        "plt.xlabel('Date')\n",
        "plt.ylabel('Value')\n",
        "plt.title('Moving Average (Order 1) - pb')\n",
        "plt.legend()\n",
        "\n",
        "plt.tight_layout()\n",
        "plt.show()"
      ]
    },
    {
      "cell_type": "markdown",
      "id": "a31daf25",
      "metadata": {
        "id": "a31daf25"
      },
      "source": [
        "- Ahora calcularemos un proceso autoregresivo: plt = alpha0 + alpha1*plt-1 + Et y pbt = beta0 + beta1*plt-1 + Evt Otra vez, por cuanto difieren los modelos?"
      ]
    },
    {
      "cell_type": "code",
      "execution_count": null,
      "id": "aa2ffacf",
      "metadata": {
        "id": "aa2ffacf",
        "outputId": "2b1c5f07-16ba-4ea7-8b9a-6d0da7c6bb29"
      },
      "outputs": [
        {
          "name": "stderr",
          "output_type": "stream",
          "text": [
            "/var/folders/zt/6jpq2rmj2jv94tj8xth5tqzr0000gn/T/ipykernel_6975/3836017255.py:2: SettingWithCopyWarning: \n",
            "A value is trying to be set on a copy of a slice from a DataFrame.\n",
            "Try using .loc[row_indexer,col_indexer] = value instead\n",
            "\n",
            "See the caveats in the documentation: https://pandas.pydata.org/pandas-docs/stable/user_guide/indexing.html#returning-a-view-versus-a-copy\n",
            "  cbeth_nuevo['pl_lagged'] = cbeth_nuevo['pl'].shift(1)\n",
            "/var/folders/zt/6jpq2rmj2jv94tj8xth5tqzr0000gn/T/ipykernel_6975/3836017255.py:3: SettingWithCopyWarning: \n",
            "A value is trying to be set on a copy of a slice from a DataFrame.\n",
            "Try using .loc[row_indexer,col_indexer] = value instead\n",
            "\n",
            "See the caveats in the documentation: https://pandas.pydata.org/pandas-docs/stable/user_guide/indexing.html#returning-a-view-versus-a-copy\n",
            "  cbeth_nuevo['pb_lagged'] = cbeth_nuevo['pb'].shift(1)\n"
          ]
        },
        {
          "data": {
            "text/html": [
              "<div>\n",
              "<style scoped>\n",
              "    .dataframe tbody tr th:only-of-type {\n",
              "        vertical-align: middle;\n",
              "    }\n",
              "\n",
              "    .dataframe tbody tr th {\n",
              "        vertical-align: top;\n",
              "    }\n",
              "\n",
              "    .dataframe thead th {\n",
              "        text-align: right;\n",
              "    }\n",
              "</style>\n",
              "<table border=\"1\" class=\"dataframe\">\n",
              "  <thead>\n",
              "    <tr style=\"text-align: right;\">\n",
              "      <th></th>\n",
              "      <th>CBETHUSD</th>\n",
              "      <th>pb</th>\n",
              "      <th>pl</th>\n",
              "      <th>pl_ma1</th>\n",
              "      <th>pb_ma1</th>\n",
              "      <th>pl_lagged</th>\n",
              "      <th>pb_lagged</th>\n",
              "    </tr>\n",
              "  </thead>\n",
              "  <tbody>\n",
              "    <tr>\n",
              "      <th>2016-05-19</th>\n",
              "      <td>14.90</td>\n",
              "      <td>13.050076</td>\n",
              "      <td>0.122661</td>\n",
              "      <td>0.122661</td>\n",
              "      <td>13.050076</td>\n",
              "      <td>NaN</td>\n",
              "      <td>NaN</td>\n",
              "    </tr>\n",
              "    <tr>\n",
              "      <th>2016-05-20</th>\n",
              "      <td>14.17</td>\n",
              "      <td>-4.899329</td>\n",
              "      <td>-0.050234</td>\n",
              "      <td>-0.050234</td>\n",
              "      <td>-4.899329</td>\n",
              "      <td>0.122661</td>\n",
              "      <td>13.050076</td>\n",
              "    </tr>\n",
              "    <tr>\n",
              "      <th>2016-05-24</th>\n",
              "      <td>12.77</td>\n",
              "      <td>-6.171932</td>\n",
              "      <td>-0.063706</td>\n",
              "      <td>-0.063706</td>\n",
              "      <td>-6.171932</td>\n",
              "      <td>-0.050234</td>\n",
              "      <td>-4.899329</td>\n",
              "    </tr>\n",
              "  </tbody>\n",
              "</table>\n",
              "</div>"
            ],
            "text/plain": [
              "            CBETHUSD         pb        pl    pl_ma1     pb_ma1  pl_lagged  \\\n",
              "2016-05-19     14.90  13.050076  0.122661  0.122661  13.050076        NaN   \n",
              "2016-05-20     14.17  -4.899329 -0.050234 -0.050234  -4.899329   0.122661   \n",
              "2016-05-24     12.77  -6.171932 -0.063706 -0.063706  -6.171932  -0.050234   \n",
              "\n",
              "            pb_lagged  \n",
              "2016-05-19        NaN  \n",
              "2016-05-20  13.050076  \n",
              "2016-05-24  -4.899329  "
            ]
          },
          "execution_count": 24,
          "metadata": {},
          "output_type": "execute_result"
        }
      ],
      "source": [
        "# Shift 'pl' and 'pb' by one position to create lagged variables\n",
        "cbeth_nuevo['pl_lagged'] = cbeth_nuevo['pl'].shift(1)\n",
        "cbeth_nuevo['pb_lagged'] = cbeth_nuevo['pb'].shift(1)\n",
        "cbeth_nuevo.head(3)"
      ]
    },
    {
      "cell_type": "code",
      "execution_count": null,
      "id": "06138829",
      "metadata": {
        "id": "06138829",
        "outputId": "564dd113-0919-4065-8e7c-70d0585fe820"
      },
      "outputs": [
        {
          "name": "stderr",
          "output_type": "stream",
          "text": [
            "/Users/raulgsi/opt/anaconda3/lib/python3.9/site-packages/statsmodels/tsa/base/tsa_model.py:581: ValueWarning: A date index has been provided, but it has no associated frequency information and so will be ignored when e.g. forecasting.\n",
            "  warnings.warn('A date index has been provided, but it has no'\n",
            "/Users/raulgsi/opt/anaconda3/lib/python3.9/site-packages/statsmodels/tsa/base/tsa_model.py:581: ValueWarning: A date index has been provided, but it has no associated frequency information and so will be ignored when e.g. forecasting.\n",
            "  warnings.warn('A date index has been provided, but it has no'\n",
            " This problem is unconstrained.\n",
            "/Users/raulgsi/opt/anaconda3/lib/python3.9/site-packages/statsmodels/tsa/base/tsa_model.py:581: ValueWarning: A date index has been provided, but it has no associated frequency information and so will be ignored when e.g. forecasting.\n",
            "  warnings.warn('A date index has been provided, but it has no'\n",
            "/Users/raulgsi/opt/anaconda3/lib/python3.9/site-packages/statsmodels/tsa/base/tsa_model.py:581: ValueWarning: A date index has been provided, but it has no associated frequency information and so will be ignored when e.g. forecasting.\n",
            "  warnings.warn('A date index has been provided, but it has no'\n"
          ]
        },
        {
          "name": "stdout",
          "output_type": "stream",
          "text": [
            "RUNNING THE L-BFGS-B CODE\n",
            "\n",
            "           * * *\n",
            "\n",
            "Machine precision = 2.220D-16\n",
            " N =            2     M =           10\n",
            "\n",
            "At X0         0 variables are exactly at the bounds\n",
            "\n",
            "At iterate    0    f= -1.56736D+00    |proj g|=  3.99143D-03\n",
            "\n",
            "           * * *\n",
            "\n",
            "Tit   = total number of iterations\n",
            "Tnf   = total number of function evaluations\n",
            "Tnint = total number of segments explored during Cauchy searches\n",
            "Skip  = number of BFGS updates skipped\n",
            "Nact  = number of active bounds at final generalized Cauchy point\n",
            "Projg = norm of the final projected gradient\n",
            "F     = final function value\n",
            "\n",
            "           * * *\n",
            "\n",
            "   N    Tit     Tnf  Tnint  Skip  Nact     Projg        F\n",
            "    2      1     11      1     0     0   3.896D-03  -1.567D+00\n",
            "  F =  -1.5673573317149274     \n",
            "\n",
            "CONVERGENCE: REL_REDUCTION_OF_F_<=_FACTR*EPSMCH             \n",
            "RUNNING THE L-BFGS-B CODE\n",
            "\n",
            "           * * *\n",
            "\n",
            "Machine precision = 2.220D-16\n",
            " N =            2     M =           10\n",
            "\n",
            "At X0         0 variables are exactly at the bounds\n",
            "\n",
            "At iterate    0    f=  3.03827D+00    |proj g|=  5.56959D-06\n",
            "\n",
            "           * * *\n",
            "\n",
            "Tit   = total number of iterations\n",
            "Tnf   = total number of function evaluations\n",
            "Tnint = total number of segments explored during Cauchy searches\n",
            "Skip  = number of BFGS updates skipped\n",
            "Nact  = number of active bounds at final generalized Cauchy point\n",
            "Projg = norm of the final projected gradient\n",
            "F     = final function value\n",
            "\n",
            "           * * *\n",
            "\n",
            "   N    Tit     Tnf  Tnint  Skip  Nact     Projg        F\n",
            "    2      0      1      0     0     0   5.570D-06   3.038D+00\n",
            "  F =   3.0382732954518374     \n",
            "\n",
            "CONVERGENCE: NORM_OF_PROJECTED_GRADIENT_<=_PGTOL            \n",
            "Model for pl:\n",
            "                               SARIMAX Results                                \n",
            "==============================================================================\n",
            "Dep. Variable:                     pl   No. Observations:                 3175\n",
            "Model:               SARIMAX(1, 0, 0)   Log Likelihood                4976.360\n",
            "Date:                Mon, 10 Feb 2025   AIC                          -9948.719\n",
            "Time:                        17:44:51   BIC                          -9936.593\n",
            "Sample:                             0   HQIC                         -9944.370\n",
            "                               - 3175                                         \n",
            "Covariance Type:                  opg                                         \n",
            "==============================================================================\n",
            "                 coef    std err          z      P>|z|      [0.025      0.975]\n",
            "------------------------------------------------------------------------------\n",
            "ar.L1         -0.0368      0.010     -3.500      0.000      -0.057      -0.016\n",
            "sigma2         0.0025   2.73e-05     93.280      0.000       0.002       0.003\n",
            "===================================================================================\n",
            "Ljung-Box (L1) (Q):                   0.00   Jarque-Bera (JB):             11581.74\n",
            "Prob(Q):                              1.00   Prob(JB):                         0.00\n",
            "Heteroskedasticity (H):               0.32   Skew:                            -0.44\n",
            "Prob(H) (two-sided):                  0.00   Kurtosis:                        12.32\n",
            "===================================================================================\n",
            "\n",
            "Warnings:\n",
            "[1] Covariance matrix calculated using the outer product of gradients (complex-step).\n",
            "\n",
            "Model for pb:\n",
            "                               SARIMAX Results                                \n",
            "==============================================================================\n",
            "Dep. Variable:                     pb   No. Observations:                 3175\n",
            "Model:               SARIMAX(1, 0, 0)   Log Likelihood               -9646.518\n",
            "Date:                Mon, 10 Feb 2025   AIC                          19297.035\n",
            "Time:                        17:44:51   BIC                          19309.162\n",
            "Sample:                             0   HQIC                         19301.385\n",
            "                               - 3175                                         \n",
            "Covariance Type:                  opg                                         \n",
            "==============================================================================\n",
            "                 coef    std err          z      P>|z|      [0.025      0.975]\n",
            "------------------------------------------------------------------------------\n",
            "ar.L1         -0.0309      0.011     -2.897      0.004      -0.052      -0.010\n",
            "sigma2        25.5002      0.315     80.958      0.000      24.883      26.118\n",
            "===================================================================================\n",
            "Ljung-Box (L1) (Q):                   0.02   Jarque-Bera (JB):              5518.36\n",
            "Prob(Q):                              0.88   Prob(JB):                         0.00\n",
            "Heteroskedasticity (H):               0.32   Skew:                             0.29\n",
            "Prob(H) (two-sided):                  0.00   Kurtosis:                         9.43\n",
            "===================================================================================\n",
            "\n",
            "Warnings:\n",
            "[1] Covariance matrix calculated using the outer product of gradients (complex-step).\n"
          ]
        },
        {
          "name": "stderr",
          "output_type": "stream",
          "text": [
            " This problem is unconstrained.\n"
          ]
        }
      ],
      "source": [
        "from statsmodels.tsa.statespace.sarimax import SARIMAX\n",
        "\n",
        "# Drop rows with missing values\n",
        "cbeth_nuevo = cbeth_nuevo.dropna()\n",
        "\n",
        "# Fit the SARIMAX models for 'pl' and 'pb'\n",
        "model_pl = SARIMAX(cbeth_nuevo['pl'], order=(1, 0, 0)).fit()\n",
        "model_pb = SARIMAX(cbeth_nuevo['pb'], order=(1, 0, 0)).fit()\n",
        "\n",
        "# Print the summaries of both models\n",
        "print(\"Model for pl:\")\n",
        "print(model_pl.summary())\n",
        "\n",
        "print(\"\\nModel for pb:\")\n",
        "print(model_pb.summary())"
      ]
    },
    {
      "cell_type": "markdown",
      "id": "a3631ba1",
      "metadata": {
        "id": "a3631ba1"
      },
      "source": [
        "**Model para pl:**\n",
        "\n",
        "* **ar.L1:** El coeficiente autorregresivo de 1 orden es -0.0368, indica una relación débil con relación al valor pasado de `pl`.\n",
        "* **sigma2:** 0.0025.\n",
        "\n",
        "**Modelo para pb:**\n",
        "\n",
        "* **ar.L1:** El coeficiente autorregresivo de 1 orden es -0.0309, también indica una relación débil con relación al valor pasado de `pb`.\n",
        "* **sigma2:** 25.5002, mucho mayor que el modelo `pl`.\n",
        "\n",
        "**Comparación:**\n",
        "\n",
        "* El modelo `pb` tiene una varianza mucho mayor, lo que sugiere que es menos preciso para predecir los combios en `pb` comparados con los de `pl` prediciendo cambios en `pl`.\n",
        "* Jarque-Bera muestra que los residuales the ambos modelos no tienen una distribución normal."
      ]
    },
    {
      "cell_type": "markdown",
      "id": "2bf07512",
      "metadata": {
        "id": "2bf07512"
      },
      "source": [
        "- ¿Cómo cambia la interpretación de beta y alpha?\n",
        "- Calcula el autocorrelograma de plt y pbt de ? ¿Cuál es resalgo mayor de relevancia de pbt y plt de ? ¿Le sorprende este hecho?\n",
        "\n",
        "\n",
        "\n",
        "**Coeficiente ar.L1:** El coeficiente para el término autorregresivo de orden 1 (`ar.L1`) es -0.0368 para el modelo `pl` y -0.0309 para el modelo `pb`. Ambos coeficientes son negativos y relativamente pequeños, lo que sugiere una relación negativa débil entre los valores actuales y anteriores en ambas series. Sin embargo, la magnitud ligeramente mayor del coeficiente en el modelo `pl` indica un efecto autorregresivo marginalmente más fuerte.\n",
        "\n",
        "**En general, el modelo `pl` parece ser un mejor ajuste para los datos, con mayor precisión predictiva y un componente autorregresivo ligeramente más fuerte en comparación con el modelo `pb`.**\n",
        "\n",
        "En resumen, el modelo `pl` se ajusta mejor a los datos, predice con mayor precisión y tiene un componente autorregresivo ligeramente más fuerte que el modelo `pb`.\n",
        "\n",
        "Ya no me sorprende porque se que los cambios logaritmicos tienen este efecto a diferencia de los porcentuales."
      ]
    },
    {
      "cell_type": "markdown",
      "id": "039f5c7a",
      "metadata": {
        "id": "039f5c7a"
      },
      "source": [
        "### 5. Escoger un modelo SARMA\n",
        "\n",
        "- Corre (por lo menos) 5 modelos para plt de la forma  \n",
        "1. Correlación entre pl y pb: Se calculó la correlación lineal entre las variables pl (cambio logarítmico) y pb (cambio porcentual).\n",
        "2. Histogramas de pl y pb: Se graficaron histogramas para visualizar la distribución de las variables pl y pb a lo largo del tiempo.\n",
        "3. Gráfico de dispersión de pl vs. pb: Se creó un gráfico de dispersión para visualizar la relación entre pl y pb, donde el color de los puntos representa el valor de pb.\n",
        "4. Modelos SARIMA para pl y pb: Se ajustaron dos modelos SARIMA (Seasonal Autoregressive Integrated Moving Average) univariados, uno para pl y otro para pb, para analizar la autocorrelación y la estructura de cada serie de tiempo.\n",
        "5. Ahora el Modelo VAR para pl y pb: Se ajustó un modelo VAR (Vector Autoregression) bivariado para analizar la relación dinámica entre pl y pb, considerando cómo los valores pasados de ambas variables influyen en sus valores actuales.\n",
        "\n",
        "- Presenta los modelos que escogiste al igual que el AIC y BIC de cada modelo en una tabla.\n",
        "- ¿Cuál modelo prefieres y por qué? (Hint: quiero que te refieras a una métrica)Evalúa el ajuste del modelo utilizando medidas como el AIC, BIC, etc.\n",
        "- Repite los últimos pasos con pbt\n",
        "- ¿Cuál de las dos transformaciones prefieres? ¿Existe diferencia?"
      ]
    },
    {
      "cell_type": "code",
      "execution_count": null,
      "id": "fbd46f01",
      "metadata": {
        "id": "fbd46f01",
        "outputId": "da8bef6b-03ba-4fdd-ef96-5d35cae0abbb"
      },
      "outputs": [
        {
          "name": "stdout",
          "output_type": "stream",
          "text": [
            "  Summary of Regression Results   \n",
            "==================================\n",
            "Model:                         VAR\n",
            "Method:                        OLS\n",
            "Date:           Mon, 10, Feb, 2025\n",
            "Time:                     18:24:57\n",
            "--------------------------------------------------------------------\n",
            "No. of Equations:         2.00000    BIC:                   -7.86648\n",
            "Nobs:                     3174.00    HQIC:                  -7.87383\n",
            "Log likelihood:           3500.88    FPE:                0.000379011\n",
            "AIC:                     -7.87794    Det(Omega_mle):     0.000378296\n",
            "--------------------------------------------------------------------\n",
            "Results for equation pl\n",
            "========================================================================\n",
            "           coefficient       std. error           t-stat            prob\n",
            "------------------------------------------------------------------------\n",
            "const         0.000485         0.000939            0.517           0.605\n",
            "L1.pl        -1.080959         0.225371           -4.796           0.000\n",
            "L1.pb         0.010472         0.002256            4.642           0.000\n",
            "========================================================================\n",
            "\n",
            "Results for equation pb\n",
            "========================================================================\n",
            "           coefficient       std. error           t-stat            prob\n",
            "------------------------------------------------------------------------\n",
            "const         0.150664         0.093631            1.609           0.108\n",
            "L1.pl      -128.613034        22.479652           -5.721           0.000\n",
            "L1.pb         1.248784         0.225005            5.550           0.000\n",
            "========================================================================\n",
            "\n",
            "Correlation matrix of residuals\n",
            "            pl        pb\n",
            "pl    1.000000  0.997024\n",
            "pb    0.997024  1.000000\n",
            "\n",
            "\n",
            "\n"
          ]
        },
        {
          "name": "stderr",
          "output_type": "stream",
          "text": [
            "/Users/raulgsi/opt/anaconda3/lib/python3.9/site-packages/statsmodels/tsa/base/tsa_model.py:581: ValueWarning: A date index has been provided, but it has no associated frequency information and so will be ignored when e.g. forecasting.\n",
            "  warnings.warn('A date index has been provided, but it has no'\n"
          ]
        }
      ],
      "source": [
        "# Drop rows with missing values\n",
        "cbeth_nuevo = cbeth_nuevo.dropna()\n",
        "\n",
        "# Select only the 'pl' and 'pb' columns\n",
        "cbeth_nuevo = cbeth_nuevo[['pl', 'pb']]\n",
        "\n",
        "# Fit the VAR model\n",
        "model = VAR(cbeth_nuevo).fit(maxlags=1)\n",
        "print(model.summary())"
      ]
    },
    {
      "cell_type": "markdown",
      "id": "1409dfbb",
      "metadata": {
        "id": "1409dfbb"
      },
      "source": [
        "**Interpretación de los resultados:**\n",
        "\n",
        "**Para la ecuación de `pl`:**\n",
        "\n",
        "* **Constante:** El coeficiente es 0.0004. No es estadísticamente significativo (valor p > 0.05)\n",
        "* **`pl` rezagado:** El coeficiente es -0.0295 y es estadísticamente significativo (valor p < 0.05), lo que sugiere una relación negativa débil entre el cambio logarítmico actual y el cambio logarítmico del período anterior.\n",
        "* **`pb` rezagado:** El coeficiente es -0.0003 y no es estadísticamente significativo (valor p > 0.05), lo que indica que el cambio porcentual del período anterior no tiene un efecto significativo en el cambio logarítmico actual.\n",
        "\n",
        "**Para la ecuación de `pb`:**\n",
        "\n",
        "* **Constante:** El coeficiente es 0.0833 y no es estadísticamente significativo (valor p > 0.05).\n",
        "* **`pl` rezagado:** El coeficiente es -0.8879 y es estadísticamente significativo (valor p < 0.05), lo que sugiere una relación negativa moderada entre el cambio porcentual actual y el cambio logarítmico del período anterior.\n",
        "* **`pb` rezagado:** El coeficiente es -0.0415 y es estadísticamente significativo (valor p < 0.05), lo que indica una relación negativa débil entre el cambio porcentual actual y el cambio porcentual del período anterior.\n",
        "\n",
        "**Conclusión**\n",
        "\n",
        "* Los resultados sugieren que existe una relación dinámica entre `pl` y `pb`, donde los cambios pasados en `pl` tienen un efecto significativo en los cambios actuales de `pb`.\n",
        "* La relación entre `pb` rezagado y `pl` actual no es significativa.\n"
      ]
    },
    {
      "cell_type": "code",
      "execution_count": null,
      "id": "83ef7625",
      "metadata": {
        "id": "83ef7625",
        "outputId": "51e569ab-2be9-4597-d6ec-f14b102ac359"
      },
      "outputs": [
        {
          "data": {
            "text/html": [
              "<div>\n",
              "<style scoped>\n",
              "    .dataframe tbody tr th:only-of-type {\n",
              "        vertical-align: middle;\n",
              "    }\n",
              "\n",
              "    .dataframe tbody tr th {\n",
              "        vertical-align: top;\n",
              "    }\n",
              "\n",
              "    .dataframe thead th {\n",
              "        text-align: right;\n",
              "    }\n",
              "</style>\n",
              "<table border=\"1\" class=\"dataframe\">\n",
              "  <thead>\n",
              "    <tr style=\"text-align: right;\">\n",
              "      <th></th>\n",
              "      <th>Modelo</th>\n",
              "      <th>Descripción</th>\n",
              "      <th>AIC</th>\n",
              "      <th>BIC</th>\n",
              "    </tr>\n",
              "  </thead>\n",
              "  <tbody>\n",
              "    <tr>\n",
              "      <th>0</th>\n",
              "      <td>Correlación</td>\n",
              "      <td>Correlación entre `pl` y `pb`</td>\n",
              "      <td>NaN</td>\n",
              "      <td>NaN</td>\n",
              "    </tr>\n",
              "    <tr>\n",
              "      <th>1</th>\n",
              "      <td>Histogramas</td>\n",
              "      <td>Histogramas de `pl` y `pb`</td>\n",
              "      <td>NaN</td>\n",
              "      <td>NaN</td>\n",
              "    </tr>\n",
              "    <tr>\n",
              "      <th>2</th>\n",
              "      <td>Gráfico de dispersión</td>\n",
              "      <td>Gráfico de dispersión de `pl` vs. `pb`</td>\n",
              "      <td>NaN</td>\n",
              "      <td>NaN</td>\n",
              "    </tr>\n",
              "    <tr>\n",
              "      <th>3</th>\n",
              "      <td>SARIMA (`pl`)</td>\n",
              "      <td>Modelo SARIMA univariado para `pl`</td>\n",
              "      <td>-9948.719</td>\n",
              "      <td>-9936.593</td>\n",
              "    </tr>\n",
              "    <tr>\n",
              "      <th>4</th>\n",
              "      <td>SARIMA (`pb`)</td>\n",
              "      <td>Modelo SARIMA univariado para `pb`</td>\n",
              "      <td>19297.035</td>\n",
              "      <td>19309.162</td>\n",
              "    </tr>\n",
              "    <tr>\n",
              "      <th>5</th>\n",
              "      <td>VAR</td>\n",
              "      <td>Modelo VAR bivariado para `pl` y `pb`</td>\n",
              "      <td>-19882.965</td>\n",
              "      <td>-19838.713</td>\n",
              "    </tr>\n",
              "  </tbody>\n",
              "</table>\n",
              "</div>"
            ],
            "text/plain": [
              "                  Modelo                             Descripción        AIC  \\\n",
              "0            Correlación           Correlación entre `pl` y `pb`        NaN   \n",
              "1            Histogramas              Histogramas de `pl` y `pb`        NaN   \n",
              "2  Gráfico de dispersión  Gráfico de dispersión de `pl` vs. `pb`        NaN   \n",
              "3          SARIMA (`pl`)      Modelo SARIMA univariado para `pl`  -9948.719   \n",
              "4          SARIMA (`pb`)      Modelo SARIMA univariado para `pb`  19297.035   \n",
              "5                    VAR   Modelo VAR bivariado para `pl` y `pb` -19882.965   \n",
              "\n",
              "         BIC  \n",
              "0        NaN  \n",
              "1        NaN  \n",
              "2        NaN  \n",
              "3  -9936.593  \n",
              "4  19309.162  \n",
              "5 -19838.713  "
            ]
          },
          "execution_count": 31,
          "metadata": {},
          "output_type": "execute_result"
        }
      ],
      "source": [
        "data = {\n",
        "    \"Modelo\": [\"Correlación\", \"Histogramas\", \"Gráfico de dispersión\", \"SARIMA (`pl`)\", \"SARIMA (`pb`)\", \"VAR\"],\n",
        "    \"Descripción\": [\"Correlación entre `pl` y `pb`\", \"Histogramas de `pl` y `pb`\", \"Gráfico de dispersión de `pl` vs. `pb`\",\n",
        "                    \"Modelo SARIMA univariado para `pl`\", \"Modelo SARIMA univariado para `pb`\",\n",
        "                    \"Modelo VAR bivariado para `pl` y `pb`\"],\n",
        "    \"AIC\": [None, None, None, -9948.719, 19297.035, -19882.965],\n",
        "    \"BIC\": [None, None, None, -9936.593, 19309.162, -19838.713]\n",
        "}\n",
        "\n",
        "df_modelos = pd.DataFrame(data)\n",
        "df_modelos"
      ]
    },
    {
      "cell_type": "markdown",
      "id": "c5ce6b47",
      "metadata": {
        "id": "c5ce6b47"
      },
      "source": [
        "**VAR** es el que mejor se ajusta a los datos. Esto se debe a que presenta los valores más bajos tanto para AIC (-19882.965) como para BIC (-19838.713).\n",
        "\n",
        "El modelo VAR captura la relación entre las variables pl y pb, considerando cómo los valores pasados de ambas variables influyen en sus valores actuales. Esto es relevante porque en los precios de Ethereum (CBETH), es común que exista una relación de dependencia entre los cambios logarítmicos (pl) y los cambios porcentuales (pb) a lo largo del tiempo."
      ]
    },
    {
      "cell_type": "code",
      "execution_count": null,
      "id": "112e2cbc",
      "metadata": {
        "id": "112e2cbc"
      },
      "outputs": [],
      "source": []
    }
  ],
  "metadata": {
    "kernelspec": {
      "display_name": "Python 3 (ipykernel)",
      "language": "python",
      "name": "python3"
    },
    "language_info": {
      "codemirror_mode": {
        "name": "ipython",
        "version": 3
      },
      "file_extension": ".py",
      "mimetype": "text/x-python",
      "name": "python",
      "nbconvert_exporter": "python",
      "pygments_lexer": "ipython3",
      "version": "3.9.7"
    },
    "colab": {
      "provenance": [],
      "include_colab_link": true
    }
  },
  "nbformat": 4,
  "nbformat_minor": 5
}